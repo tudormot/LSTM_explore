{
 "cells": [
  {
   "cell_type": "markdown",
   "metadata": {},
   "source": [
    "Recurrent Neural Networks (RNN)\n",
    "====================\n",
    "\n",
    "\n",
    "\n",
    "In this notebook I tried to explore the usage of RNNs and LSTM in pytorch. I have written personal implementations of the cells (granted, still using pytorch operations), then I timed then against the standard pytorch implementations. I explored the vanishing gradient issue in RNN's by plotting the gradient norms vs time, then empirically showed that the gradients improve in magnitude when using LSTM. Finally, a simple LSTM net is used for image classificication, where input at time t is row of image at time t. The classifier works surprisingly well on \n",
    "\n",
    "\n",
    "\n"
   ]
  },
  {
   "cell_type": "code",
   "execution_count": 1,
   "metadata": {
    "pycharm": {
     "is_executing": false
    }
   },
   "outputs": [],
   "source": [
    "import numpy as np\n",
    "import matplotlib.pyplot as plt\n",
    "import torch\n",
    "from torch.autograd import Variable\n",
    "import os\n",
    "\n",
    "device = torch.device(\"cuda:0\" if torch.cuda.is_available() else \"cpu\")\n",
    "\n",
    "%matplotlib inline\n",
    "plt.rcParams['figure.figsize'] = (10.0, 8.0) # set default size of plots\n",
    "plt.rcParams['image.interpolation'] = 'nearest'\n",
    "plt.rcParams['image.cmap'] = 'gray'\n",
    "\n",
    "# for auto-reloading external modules\n",
    "# see http://stackoverflow.com/questions/1907993/autoreload-of-modules-in-ipython\n",
    "%load_ext autoreload\n",
    "%autoreload 2"
   ]
  },
  {
   "cell_type": "code",
   "execution_count": 2,
   "metadata": {
    "pycharm": {
     "is_executing": false
    }
   },
   "outputs": [
    {
     "name": "stdout",
     "output_type": "stream",
     "text": [
      "Using python:  3.7.3\n",
      "Using torch version:  1.1.0\n",
      "Using device:  cpu\n"
     ]
    }
   ],
   "source": [
    "import platform\n",
    "print('Using python: ', platform.python_version())\n",
    "print('Using torch version: ', torch.__version__)\n",
    "print('Using device: ', device)\n"
   ]
  },
  {
   "cell_type": "markdown",
   "metadata": {},
   "source": [
    "\n",
    "\n"
   ]
  },
  {
   "cell_type": "code",
   "execution_count": 4,
   "metadata": {
    "pycharm": {
     "is_executing": false
    }
   },
   "outputs": [],
   "source": [
    "\n",
    "from rnn_nn import RNN"
   ]
  },
  {
   "cell_type": "markdown",
   "metadata": {},
   "source": [
    "Luckily, Pytorch already has implemented a simple RNN in their library and you can call the RNN with <code>nn.RNN</code>. We will use the Pytorch RNN function to check if we have built the correct cell and compare the output of both functions. We also compare the running time of both classes."
   ]
  },
  {
   "cell_type": "code",
   "execution_count": 6,
   "metadata": {
    "pycharm": {
     "is_executing": false
    }
   },
   "outputs": [
    {
     "name": "stdout",
     "output_type": "stream",
     "text": [
      "Differnce between pytorch and RNN implementation: 0.0\n",
      "all good\n"
     ]
    }
   ],
   "source": [
    "import torch.nn as nn\n",
    "import timeit\n",
    "\n",
    "# choose your network parameters\n",
    "input_size=3\n",
    "hidden_dim=3\n",
    "seq_len= 10 \n",
    "\n",
    "# define the two models\n",
    "pytorch_rnn=nn.RNN(input_size, hidden_dim)\n",
    "i2dl_rnn=RNN(input_size, hidden_dim)\n",
    "\n",
    "# initialise both rnn with same values\n",
    "for p in pytorch_rnn.parameters():\n",
    "    nn.init.constant_(p, val=0.3)\n",
    "for p in i2dl_rnn.parameters():\n",
    "    nn.init.constant_(p, val=0.3)\n",
    "    \n",
    "X=torch.randn(seq_len, 1, input_size)\n",
    "\n",
    "output_pytorch, h_pytorch = pytorch_rnn(X)\n",
    "output_i2dl, h_i2dl = i2dl_rnn(X)\n",
    "\n",
    "\n",
    "# The difference of outputs should be 0!!\n",
    "\n",
    "diff = torch.sum((output_pytorch-output_i2dl)**2)\n",
    "print(\"Differnce between pytorch and RNN implementation: %s\" %diff.item())\n",
    "if diff.item()<10**-10:\n",
    "    print(\"all good\")\n",
    "else:\n",
    "    print(\"whoopsie\")"
   ]
  },
  {
   "cell_type": "code",
   "execution_count": 7,
   "metadata": {
    "pycharm": {
     "is_executing": false
    }
   },
   "outputs": [
    {
     "name": "stdout",
     "output_type": "stream",
     "text": [
      "Time Pytorch RNN 10000 runs: 2.456s\n",
      "Time I2DL RNN 10000 run: 4.689s\n"
     ]
    }
   ],
   "source": [
    "import timeit\n",
    "runs=10**4\n",
    "\n",
    "print(\"Time Pytorch RNN {} runs: {:.3f}s\".format(runs, timeit.timeit(\"pytorch_rnn(X)\", \n",
    "                                       setup=\"from __main__ import pytorch_rnn, X\", \n",
    "                                       number=runs))\n",
    "     )\n",
    "\n",
    "print(\"Time I2DL RNN {} run: {:.3f}s\".format(runs, timeit.timeit(\"i2dl_rnn(X)\", \n",
    "                                       setup=\"from __main__ import i2dl_rnn, X\", \n",
    "                                       number=runs))\n",
    "     )"
   ]
  },
  {
   "cell_type": "markdown",
   "metadata": {},
   "source": [
    "We can see that of course the pytorch implementation is faster :)"
   ]
  },
  {
   "cell_type": "markdown",
   "metadata": {},
   "source": [
    "## Vanishing Gradient Exploration\n",
    "\n",
    "This section shows thatthe effect of the past inputs to the final output vanishes with the distance in time. Plot of the gradients of input with respect to time"
   ]
  },
  {
   "cell_type": "code",
   "execution_count": 8,
   "metadata": {
    "pycharm": {
     "is_executing": false
    }
   },
   "outputs": [
    {
     "name": "stdout",
     "output_type": "stream",
     "text": [
      "torch.Size([50, 1, 20])\n"
     ]
    },
    {
     "data": {
      "text/plain": [
       "[<matplotlib.lines.Line2D at 0x7f7ec00b1f60>]"
      ]
     },
     "execution_count": 8,
     "metadata": {},
     "output_type": "execute_result"
    },
    {
     "data": {
      "image/png": "[encoded data removed]",
      "text/plain": [
       "<Figure size 432x288 with 1 Axes>"
      ]
     },
     "metadata": {
      "needs_background": "light"
     },
     "output_type": "display_data"
    }
   ],
   "source": [
    "\n",
    "import torch\n",
    "import torch.nn as nn\n",
    "\n",
    "# create a random input of shape (batch,sequence,features)\n",
    "no_features =20\n",
    "hidden_size = 20\n",
    "seq_len = 50\n",
    "batch = 1\n",
    "\n",
    "X = torch.ones(seq_len, batch, no_features,requires_grad=True)\n",
    "#X = [Variable(i, requires_grad= True) for i in X ]\n",
    "Y = torch.ones(seq_len, batch, no_features) *1.1\n",
    "\n",
    "my_RNN = nn.RNN (20,20)\n",
    "output, h_t = my_RNN(X) #output has shape:seq_len, batch,hidden_size\n",
    "\n",
    "\n",
    "h = torch.sum(h_t)\n",
    "h.backward()\n",
    "\n",
    "#now we perform a backpropagation from each output\n",
    "#grad_list = []\n",
    "#print(loss.shape)\n",
    "\n",
    "#print([ i for i in my_RNN.named_parameters()])\n",
    "#print('debug.shape of X is %s'%str(X.shape))\n",
    "# for t in range(seq_len):\n",
    "#     my_RNN.zero_grad()\n",
    "# \n",
    "#     #print(my_RNN.weight_ih_l0.grad)\n",
    "#     #print(loss_t)\n",
    "#     loss.backward(retain_graph=True)\n",
    "#     grad_list.append(X[t].grad)\n",
    "    #print(X[t].grad.shape)\n",
    "    #print(my_RNN.all_weights)\n",
    "    \n",
    "#now stack the grad list, reduce using a meaningful metric..say l2 norm ,and plot\n",
    "#print(grad_list)\n",
    "\n",
    "# grad_list = torch.stack(grad_list)\n",
    "# print('debug. grad_list shape is %s'%str(grad_list.shape))\n",
    "# grad_list = torch.norm(grad_list,dim = (1,2)).detach().numpy()\n",
    "\n",
    "print(X.grad.shape)\n",
    "#now print grad list, should be a vector\n",
    "plt.plot(torch.norm(X.grad.squeeze(),dim=1).detach().numpy())\n"
   ]
  },
  {
   "cell_type": "markdown",
   "metadata": {},
   "source": [
    "## Long-Short Term Memory Network (LSTM)\n",
    "We are exploring the LSTM cell, which is being able to learn from longer time sequences using two internal representations of data, the hidden state and the cell state. Also the cell can learn what to forget and what to keep using sigmoids. Again we time the implementations and compare the gradient vanish with the vanishing gradient of RNNs"
   ]
  },
  {
   "cell_type": "code",
   "execution_count": 10,
   "metadata": {
    "pycharm": {
     "is_executing": false
    }
   },
   "outputs": [],
   "source": [
    "\n",
    "from rnn_nn import LSTM"
   ]
  },
  {
   "cell_type": "code",
   "execution_count": 11,
   "metadata": {
    "pycharm": {
     "is_executing": false
    }
   },
   "outputs": [
    {
     "name": "stdout",
     "output_type": "stream",
     "text": [
      "Differnce between pytorch and your RNN implementation: 0.0\n",
      "all good\n"
     ]
    },
    {
     "name": "stderr",
     "output_type": "stream",
     "text": [
      "/home/tudor/Programs/anaconda3/envs/ML/lib/python3.7/site-packages/torch/nn/functional.py:1386: UserWarning: nn.functional.sigmoid is deprecated. Use torch.sigmoid instead.\n",
      "  warnings.warn(\"nn.functional.sigmoid is deprecated. Use torch.sigmoid instead.\")\n",
      "/home/tudor/Programs/anaconda3/envs/ML/lib/python3.7/site-packages/torch/nn/functional.py:1374: UserWarning: nn.functional.tanh is deprecated. Use torch.tanh instead.\n",
      "  warnings.warn(\"nn.functional.tanh is deprecated. Use torch.tanh instead.\")\n"
     ]
    }
   ],
   "source": [
    "import torch.nn as nn\n",
    "\n",
    "# choose input parameters\n",
    "input_size=3\n",
    "hidden_dim=3\n",
    "seq_len= 10 \n",
    "\n",
    "# define the two models\n",
    "pytorch_lstm=nn.LSTM(input_size, hidden_dim)\n",
    "i2dl_lstm=LSTM(input_size, hidden_dim)\n",
    "\n",
    "# initialise both lstms with same values\n",
    "for p in pytorch_lstm.parameters():\n",
    "    nn.init.constant_(p, val=0.3)\n",
    "for p in i2dl_lstm.parameters():\n",
    "    nn.init.constant_(p, val=0.3)\n",
    "    \n",
    "X=torch.randn(seq_len, 1, input_size)\n",
    "\n",
    "output_pytorch, (h_pytorch, _) = pytorch_lstm(X)\n",
    "output_i2dl , (h_i2dl, _ )= i2dl_lstm(X)\n",
    "\n",
    "# The difference of outputs should be 0!!\n",
    "diff = torch.sum((output_pytorch-output_i2dl)**2)\n",
    "print(\"Differnce between pytorch and your RNN implementation: %s\" %diff.item())\n",
    "if diff.item()<10**-10:\n",
    "    print(\"all good\")\n",
    "else:\n",
    "    print(\"whoopsie\")"
   ]
  },
  {
   "cell_type": "code",
   "execution_count": 12,
   "metadata": {
    "pycharm": {
     "is_executing": false
    }
   },
   "outputs": [
    {
     "name": "stdout",
     "output_type": "stream",
     "text": [
      "Time Pytorch LSTM 10000 runs: 5.534s\n",
      "Time I2DL LSTM 10000 run: 19.020s\n"
     ]
    }
   ],
   "source": [
    "import timeit\n",
    "runs=10**4\n",
    "\n",
    "print(\"Time Pytorch LSTM {} runs: {:.3f}s\".format(runs, timeit.timeit(\"pytorch_lstm(X)\", \n",
    "                                       setup=\"from __main__ import pytorch_lstm, X\", \n",
    "                                       number=runs))\n",
    "     )\n",
    "\n",
    "print(\"Time I2DL LSTM {} run: {:.3f}s\".format(runs, timeit.timeit(\"i2dl_lstm(X)\", \n",
    "                                       setup=\"from __main__ import i2dl_lstm, X\", \n",
    "                                       number=runs))\n",
    "     )"
   ]
  },
  {
   "cell_type": "markdown",
   "metadata": {},
   "source": [
    "## Explore Gradients \n",
    "\n"
   ]
  },
  {
   "cell_type": "code",
   "execution_count": 15,
   "metadata": {
    "pycharm": {
     "is_executing": false
    }
   },
   "outputs": [
    {
     "data": {
      "image/png": "[encoded data removed]",
      "text/plain": [
       "<Figure size 432x288 with 1 Axes>"
      ]
     },
     "metadata": {
      "needs_background": "light"
     },
     "output_type": "display_data"
    }
   ],
   "source": [
    "from rnn_nn import LSTM\n",
    "from rnn_nn import RNN\n",
    "\n",
    "input_size=1\n",
    "hidden_dim=1\n",
    "seq_len= 50\n",
    "\n",
    "my_RNN=RNN(input_size, hidden_dim)\n",
    "my_LSTM=LSTM(input_size, hidden_dim)\n",
    "\n",
    "\n",
    "\n",
    "X1=torch.randn(seq_len, 1, input_size)\n",
    "X2=torch.randn(seq_len, 1, input_size)\n",
    "X1.requires_grad = True\n",
    "X2.requires_grad = True\n",
    "\n",
    "_,h_rnn = my_RNN(X1)\n",
    "_,(h_lstm, c_lstm) = my_LSTM(X2)\n",
    "\n",
    "\n",
    "h_rnn.backward()\n",
    "h_lstm.backward()\n",
    "\n",
    "#print('debug. Data about X. %s'%str(X))\n",
    "\n",
    "plt.semilogy(np.flip(X1.grad.abs().squeeze().detach().numpy()),label = 'RNN')\n",
    "plt.semilogy(np.flip(X2.grad.abs().squeeze().detach().numpy()), label = 'LSTM')\n",
    "plt.legend()\n",
    "plt.xlabel(\"Time stept\")\n",
    "plt.ylabel(\"d h_T/dx_t\")\n",
    "plt.title(\"Log plot of gradient of output wrt.input\")  \n",
    "plt.show()\n",
    "\n"
   ]
  },
  {
   "cell_type": "markdown",
   "metadata": {},
   "source": [
    "## MNIST image classification with RNNs\n",
    "\n",
    "using the mnist handwritten digits dataset, classifying using recurent nets, where each 'sentence' is a row of pixels\n",
    "\n"
   ]
  },
  {
   "cell_type": "code",
   "execution_count": 18,
   "metadata": {
    "pycharm": {
     "is_executing": false
    }
   },
   "outputs": [],
   "source": [
    "# Define data loader\n",
    "from torchvision import transforms\n",
    "import pickle\n",
    "\n",
    "class Unsqueeze(object):\n",
    "    \"\"\"Adds a channel dimension that that our 2 dimensional input (H, W), \n",
    "    fits the 3 dimensional (H, W, C) expectations of pytorch's ToTensor function which\n",
    "    expects a PIL image. This is very inefficient but you most probably will use pytorch's\n",
    "    PIL image loader. Check out the documentation and make it more efficient :)\n",
    "    \"\"\"\n",
    "    def __init__(self, dimension=0):\n",
    "        self.dimension = dimension\n",
    "    def __call__(self, numpy_array):\n",
    "        extended_array = np.expand_dims(numpy_array, self.dimension)\n",
    "        return extended_array\n",
    "    def __repr__(self):\n",
    "        return self.__class__.__name__ + 'dimension={}'.format(dimension)\n",
    "    \n",
    "class RemoveChannelDimension(object):\n",
    "    \"\"\"we have 1 channel, model assumes 1 channel and no extra dimension, hence squeeze the data\"\"\"\n",
    "    def __call__(self,tensor):\n",
    "        #print(\"debugg, remove channel was called\")\n",
    "        #print('shape of tensor: %s'%str(tensor.shape))\n",
    "        tensor.squeeze(dim =0)\n",
    "        #print('shape of tensor:after squeezing %s'%str(tensor.shape))\n",
    "        return tensor\n",
    "    \n",
    "\n",
    "    \n",
    "# transformation of data\n",
    "transform = transforms.Compose([\n",
    "    Unsqueeze(dimension=3),     \n",
    "    transforms.ToTensor(),\n",
    "    transforms.Normalize(mean=(0.5,), std=(0.5,)),\n",
    "    RemoveChannelDimension()\n",
    "])\n",
    "\n",
    "\n",
    "class MnistDataset(torch.utils.data.Dataset):\n",
    "    def __init__(self, images, labels, \n",
    "                 transform=None):\n",
    "        super(MnistDataset, self).__init__()\n",
    "        self.images = images\n",
    "        self.labels = labels\n",
    "        self.transform = transform\n",
    "       \n",
    "    def __len__(self):\n",
    "        return len(self.images)\n",
    "    \n",
    "    def __getitem__(self, idx):\n",
    "        image = self.images[idx]\n",
    "        label = self.labels[idx]\n",
    "        if self.transform: \n",
    "            image = self.transform(image)\n",
    "        return image, label\n",
    "\n",
    "    \n",
    "# loading the train data\n",
    "with open(\"datasets/mnist_train.p\", \"rb\") as f:\n",
    "    mnist_raw = pickle.load(f)\n",
    "\n",
    "X, y= mnist_raw\n",
    "  \n",
    "\n",
    "train_split = 0.8\n",
    "\n",
    "\n",
    "train_dset=MnistDataset(X[:int(len(X)*train_split)], y[:int(len(X)*train_split)], transform=transform)\n",
    "val_dset=MnistDataset(X[int(len(X)*train_split):], y[int(len(X)*train_split):], transform=transform)\n"
   ]
  },
  {
   "cell_type": "code",
   "execution_count": 19,
   "metadata": {
    "pycharm": {
     "is_executing": false
    }
   },
   "outputs": [
    {
     "data": {
      "image/png": "[encoded data removed]",
      "text/plain": [
       "<Figure size 432x288 with 50 Axes>"
      ]
     },
     "metadata": {
      "needs_background": "light"
     },
     "output_type": "display_data"
    }
   ],
   "source": [
    "# Visualize some examples from the dataset. Stolen from other notebooks\n",
    "\n",
    "X=train_dset.images\n",
    "y=train_dset.labels\n",
    "\n",
    "\n",
    "classes = list(range(10))\n",
    "num_classes = len(classes)\n",
    "samples_per_class = 5\n",
    "for y_hat, cls in enumerate(classes):\n",
    "    idxs = np.flatnonzero(train_dset.labels == y_hat)\n",
    "    idxs = np.random.choice(idxs, samples_per_class, replace=False)\n",
    "    for i, idx in enumerate(idxs):\n",
    "        plt_idx = i * num_classes + y_hat + 1\n",
    "        plt.subplot(samples_per_class, num_classes, plt_idx)\n",
    "        plt.imshow(X[idx])\n",
    "        plt.axis('off')\n",
    "        if i == 0:\n",
    "            plt.title(cls)\n",
    "plt.show()"
   ]
  },
  {
   "cell_type": "code",
   "execution_count": 21,
   "metadata": {
    "pycharm": {
     "is_executing": false
    }
   },
   "outputs": [],
   "source": [
    "from rnn_nn import LSTM_Classifier, RNN_Classifier\n",
    "\n"
   ]
  },
  {
   "cell_type": "code",
   "execution_count": 23,
   "metadata": {
    "pycharm": {
     "is_executing": false
    }
   },
   "outputs": [],
   "source": [
    "from solver import Solver"
   ]
  },
  {
   "cell_type": "code",
   "execution_count": 24,
   "metadata": {
    "pycharm": {
     "is_executing": false
    },
    "scrolled": false
   },
   "outputs": [
    {
     "name": "stdout",
     "output_type": "stream",
     "text": [
      "START TRAIN.\n"
     ]
    },
    {
     "name": "stderr",
     "output_type": "stream",
     "text": [
      "/home/tudor/Programs/anaconda3/envs/ML/lib/python3.7/site-packages/ipykernel_launcher.py:14: DeprecationWarning: Both axis > a.ndim and axis < -a.ndim - 1 are deprecated and will raise an AxisError in the future.\n",
      "  \n"
     ]
    },
    {
     "name": "stdout",
     "output_type": "stream",
     "text": [
      "[Iteration 50/6000] TRAIN loss: 2.263\n",
      "[Iteration 100/6000] TRAIN loss: 2.124\n",
      "[Iteration 150/6000] TRAIN loss: 1.952\n",
      "[Iteration 200/6000] TRAIN loss: 1.898\n",
      "[Iteration 250/6000] TRAIN loss: 1.804\n",
      "[Iteration 300/6000] TRAIN loss: 1.708\n",
      "[Iteration 350/6000] TRAIN loss: 1.635\n",
      "[Iteration 400/6000] TRAIN loss: 1.569\n",
      "[Iteration 450/6000] TRAIN loss: 1.821\n",
      "[Iteration 500/6000] TRAIN loss: 1.521\n",
      "[Iteration 550/6000] TRAIN loss: 1.458\n",
      "[Iteration 600/6000] TRAIN loss: 1.519\n",
      "[Iteration 650/6000] TRAIN loss: 1.448\n",
      "[Iteration 700/6000] TRAIN loss: 1.553\n",
      "[Iteration 750/6000] TRAIN loss: 1.449\n",
      "[Iteration 800/6000] TRAIN loss: 1.456\n",
      "[Iteration 850/6000] TRAIN loss: 1.405\n",
      "[Iteration 900/6000] TRAIN loss: 1.409\n",
      "[Iteration 950/6000] TRAIN loss: 1.445\n",
      "[Iteration 1000/6000] TRAIN loss: 1.470\n",
      "[Iteration 1050/6000] TRAIN loss: 1.469\n",
      "[Iteration 1100/6000] TRAIN loss: 1.438\n",
      "[Iteration 1150/6000] TRAIN loss: 1.454\n",
      "[Iteration 1200/6000] TRAIN loss: 1.505\n",
      "[Iteration 1250/6000] TRAIN loss: 1.376\n",
      "[Iteration 1300/6000] TRAIN loss: 1.362\n",
      "[Iteration 1350/6000] TRAIN loss: 1.414\n",
      "[Iteration 1400/6000] TRAIN loss: 1.369\n",
      "[Iteration 1450/6000] TRAIN loss: 1.318\n",
      "[Iteration 1500/6000] TRAIN loss: 1.323\n",
      "[Epoch 1/4] TRAIN acc/loss: 0.594/1.323\n",
      "[Epoch 1/4] VAL   acc/loss: 0.552/1.326\n",
      "[Iteration 1550/6000] TRAIN loss: 1.424\n",
      "[Iteration 1600/6000] TRAIN loss: 1.300\n",
      "[Iteration 1650/6000] TRAIN loss: 1.296\n",
      "[Iteration 1700/6000] TRAIN loss: 1.355\n",
      "[Iteration 1750/6000] TRAIN loss: 1.380\n",
      "[Iteration 1800/6000] TRAIN loss: 1.307\n",
      "[Iteration 1850/6000] TRAIN loss: 1.350\n",
      "[Iteration 1900/6000] TRAIN loss: 1.424\n",
      "[Iteration 1950/6000] TRAIN loss: 1.317\n",
      "[Iteration 2000/6000] TRAIN loss: 1.402\n",
      "[Iteration 2050/6000] TRAIN loss: 1.382\n",
      "[Iteration 2100/6000] TRAIN loss: 1.331\n",
      "[Iteration 2150/6000] TRAIN loss: 1.342\n",
      "[Iteration 2200/6000] TRAIN loss: 1.294\n",
      "[Iteration 2250/6000] TRAIN loss: 1.382\n",
      "[Iteration 2300/6000] TRAIN loss: 1.456\n",
      "[Iteration 2350/6000] TRAIN loss: 1.364\n",
      "[Iteration 2400/6000] TRAIN loss: 1.388\n",
      "[Iteration 2450/6000] TRAIN loss: 1.426\n",
      "[Iteration 2500/6000] TRAIN loss: 1.385\n",
      "[Iteration 2550/6000] TRAIN loss: 1.339\n",
      "[Iteration 2600/6000] TRAIN loss: 1.298\n",
      "[Iteration 2650/6000] TRAIN loss: 1.279\n",
      "[Iteration 2700/6000] TRAIN loss: 1.300\n",
      "[Iteration 2750/6000] TRAIN loss: 1.330\n",
      "[Iteration 2800/6000] TRAIN loss: 1.312\n",
      "[Iteration 2850/6000] TRAIN loss: 1.281\n",
      "[Iteration 2900/6000] TRAIN loss: 1.318\n",
      "[Iteration 2950/6000] TRAIN loss: 1.276\n",
      "[Iteration 3000/6000] TRAIN loss: 1.317\n",
      "[Epoch 2/4] TRAIN acc/loss: 0.500/1.317\n",
      "[Epoch 2/4] VAL   acc/loss: 0.575/1.274\n",
      "[Iteration 3050/6000] TRAIN loss: 1.344\n",
      "[Iteration 3100/6000] TRAIN loss: 1.379\n",
      "[Iteration 3150/6000] TRAIN loss: 1.300\n",
      "[Iteration 3200/6000] TRAIN loss: 1.320\n",
      "[Iteration 3250/6000] TRAIN loss: 1.241\n",
      "[Iteration 3300/6000] TRAIN loss: 1.316\n",
      "[Iteration 3350/6000] TRAIN loss: 1.319\n",
      "[Iteration 3400/6000] TRAIN loss: 1.561\n",
      "[Iteration 3450/6000] TRAIN loss: 1.346\n",
      "[Iteration 3500/6000] TRAIN loss: 1.324\n",
      "[Iteration 3550/6000] TRAIN loss: 1.320\n",
      "[Iteration 3600/6000] TRAIN loss: 1.313\n",
      "[Iteration 3650/6000] TRAIN loss: 1.337\n",
      "[Iteration 3700/6000] TRAIN loss: 1.322\n",
      "[Iteration 3750/6000] TRAIN loss: 1.273\n",
      "[Iteration 3800/6000] TRAIN loss: 1.280\n",
      "[Iteration 3850/6000] TRAIN loss: 1.287\n",
      "[Iteration 3900/6000] TRAIN loss: 1.307\n",
      "[Iteration 3950/6000] TRAIN loss: 1.294\n",
      "[Iteration 4000/6000] TRAIN loss: 1.325\n",
      "[Iteration 4050/6000] TRAIN loss: 1.291\n",
      "[Iteration 4100/6000] TRAIN loss: 1.222\n",
      "[Iteration 4150/6000] TRAIN loss: 1.156\n",
      "[Iteration 4200/6000] TRAIN loss: 1.221\n",
      "[Iteration 4250/6000] TRAIN loss: 1.150\n",
      "[Iteration 4300/6000] TRAIN loss: 1.199\n",
      "[Iteration 4350/6000] TRAIN loss: 1.163\n",
      "[Iteration 4400/6000] TRAIN loss: 1.130\n",
      "[Iteration 4450/6000] TRAIN loss: 1.229\n",
      "[Iteration 4500/6000] TRAIN loss: 1.290\n",
      "[Epoch 3/4] TRAIN acc/loss: 0.594/1.290\n",
      "[Epoch 3/4] VAL   acc/loss: 0.567/1.210\n",
      "[Iteration 4550/6000] TRAIN loss: 1.187\n",
      "[Iteration 4600/6000] TRAIN loss: 1.194\n",
      "[Iteration 4650/6000] TRAIN loss: 1.136\n",
      "[Iteration 4700/6000] TRAIN loss: 1.146\n",
      "[Iteration 4750/6000] TRAIN loss: 1.148\n",
      "[Iteration 4800/6000] TRAIN loss: 1.122\n",
      "[Iteration 4850/6000] TRAIN loss: 1.216\n",
      "[Iteration 4900/6000] TRAIN loss: 1.149\n",
      "[Iteration 4950/6000] TRAIN loss: 1.042\n",
      "[Iteration 5000/6000] TRAIN loss: 1.136\n",
      "[Iteration 5050/6000] TRAIN loss: 1.173\n",
      "[Iteration 5100/6000] TRAIN loss: 1.130\n",
      "[Iteration 5150/6000] TRAIN loss: 1.194\n",
      "[Iteration 5200/6000] TRAIN loss: 1.133\n",
      "[Iteration 5250/6000] TRAIN loss: 1.157\n",
      "[Iteration 5300/6000] TRAIN loss: 1.076\n",
      "[Iteration 5350/6000] TRAIN loss: 1.072\n",
      "[Iteration 5400/6000] TRAIN loss: 1.144\n",
      "[Iteration 5450/6000] TRAIN loss: 1.116\n",
      "[Iteration 5500/6000] TRAIN loss: 1.147\n",
      "[Iteration 5550/6000] TRAIN loss: 1.059\n",
      "[Iteration 5600/6000] TRAIN loss: 1.127\n",
      "[Iteration 5650/6000] TRAIN loss: 1.143\n",
      "[Iteration 5700/6000] TRAIN loss: 1.140\n",
      "[Iteration 5750/6000] TRAIN loss: 1.209\n",
      "[Iteration 5800/6000] TRAIN loss: 1.081\n",
      "[Iteration 5850/6000] TRAIN loss: 1.091\n",
      "[Iteration 5900/6000] TRAIN loss: 1.103\n",
      "[Iteration 5950/6000] TRAIN loss: 1.071\n",
      "[Iteration 6000/6000] TRAIN loss: 1.096\n",
      "[Epoch 4/4] TRAIN acc/loss: 0.469/1.096\n",
      "[Epoch 4/4] VAL   acc/loss: 0.577/1.105\n",
      "FINISH.\n"
     ]
    }
   ],
   "source": [
    "model_rnn = RNN_Classifier()\n",
    "batch_size = 32\n",
    "train_loader = torch.utils.data.DataLoader(\n",
    "                 dataset=train_dset,\n",
    "                 batch_size=batch_size,\n",
    "                 shuffle=True)\n",
    "val_loader = torch.utils.data.DataLoader(\n",
    "                dataset=val_dset,\n",
    "                batch_size=batch_size,\n",
    "                shuffle=False)\n",
    "\n",
    "custom_adam_options = {\n",
    "    \"lr\": 1e-2\n",
    "}\n",
    "solver = Solver(optim_args={\"lr\": 1e-3})\n",
    "\n",
    "# train rnn model\n",
    "solver.train(model_rnn, train_loader, val_loader, log_nth=50, num_epochs=4)"
   ]
  },
  {
   "cell_type": "markdown",
   "metadata": {},
   "source": [
    "Trying to improve the model by using a LSTM."
   ]
  },
  {
   "cell_type": "code",
   "execution_count": 23,
   "metadata": {
    "pycharm": {
     "is_executing": false
    }
   },
   "outputs": [
    {
     "name": "stdout",
     "output_type": "stream",
     "text": [
      "START TRAIN.\n",
      "[Iteration 100/15000] TRAIN loss: 2.095\n",
      "[Iteration 200/15000] TRAIN loss: 1.553\n",
      "[Iteration 300/15000] TRAIN loss: 1.320\n",
      "[Iteration 400/15000] TRAIN loss: 1.235\n",
      "[Iteration 500/15000] TRAIN loss: 1.070\n",
      "[Iteration 600/15000] TRAIN loss: 0.917\n",
      "[Iteration 700/15000] TRAIN loss: 0.915\n",
      "[Iteration 800/15000] TRAIN loss: 0.739\n",
      "[Iteration 900/15000] TRAIN loss: 0.458\n",
      "[Iteration 1000/15000] TRAIN loss: 0.432\n",
      "[Iteration 1100/15000] TRAIN loss: 0.361\n",
      "[Iteration 1200/15000] TRAIN loss: 0.243\n",
      "[Iteration 1300/15000] TRAIN loss: 0.212\n",
      "[Iteration 1400/15000] TRAIN loss: 0.164\n",
      "[Iteration 1500/15000] TRAIN loss: 0.148\n",
      "[Epoch 1/10] TRAIN acc/loss: 0.812/0.148\n",
      "[Epoch 1/10] VAL   acc/loss: 0.958/0.149\n",
      "[Iteration 1600/15000] TRAIN loss: 0.148\n",
      "[Iteration 1700/15000] TRAIN loss: 0.148\n",
      "[Iteration 1800/15000] TRAIN loss: 0.123\n",
      "[Iteration 1900/15000] TRAIN loss: 0.119\n",
      "[Iteration 2000/15000] TRAIN loss: 0.136\n",
      "[Iteration 2100/15000] TRAIN loss: 0.109\n",
      "[Iteration 2200/15000] TRAIN loss: 0.131\n",
      "[Iteration 2300/15000] TRAIN loss: 0.118\n",
      "[Iteration 2400/15000] TRAIN loss: 0.097\n",
      "[Iteration 2500/15000] TRAIN loss: 0.091\n",
      "[Iteration 2600/15000] TRAIN loss: 0.108\n",
      "[Iteration 2700/15000] TRAIN loss: 0.091\n",
      "[Iteration 2800/15000] TRAIN loss: 0.093\n",
      "[Iteration 2900/15000] TRAIN loss: 0.120\n",
      "[Iteration 3000/15000] TRAIN loss: 0.083\n",
      "[Epoch 2/10] TRAIN acc/loss: 0.969/0.083\n",
      "[Epoch 2/10] VAL   acc/loss: 0.972/0.099\n",
      "[Iteration 3100/15000] TRAIN loss: 0.063\n",
      "[Iteration 3200/15000] TRAIN loss: 0.075\n",
      "[Iteration 3300/15000] TRAIN loss: 0.078\n",
      "[Iteration 3400/15000] TRAIN loss: 0.076\n",
      "[Iteration 3500/15000] TRAIN loss: 0.084\n",
      "[Iteration 3600/15000] TRAIN loss: 0.084\n",
      "[Iteration 3700/15000] TRAIN loss: 0.090\n",
      "[Iteration 3800/15000] TRAIN loss: 0.066\n",
      "[Iteration 3900/15000] TRAIN loss: 0.085\n",
      "[Iteration 4000/15000] TRAIN loss: 0.082\n",
      "[Iteration 4100/15000] TRAIN loss: 0.091\n",
      "[Iteration 4200/15000] TRAIN loss: 0.093\n",
      "[Iteration 4300/15000] TRAIN loss: 0.082\n",
      "[Iteration 4400/15000] TRAIN loss: 0.057\n",
      "[Iteration 4500/15000] TRAIN loss: 0.063\n",
      "[Epoch 3/10] TRAIN acc/loss: 1.000/0.063\n",
      "[Epoch 3/10] VAL   acc/loss: 0.979/0.074\n",
      "[Iteration 4600/15000] TRAIN loss: 0.062\n",
      "[Iteration 4700/15000] TRAIN loss: 0.060\n",
      "[Iteration 4800/15000] TRAIN loss: 0.070\n",
      "[Iteration 4900/15000] TRAIN loss: 0.059\n",
      "[Iteration 5000/15000] TRAIN loss: 0.050\n",
      "[Iteration 5100/15000] TRAIN loss: 0.069\n",
      "[Iteration 5200/15000] TRAIN loss: 0.042\n",
      "[Iteration 5300/15000] TRAIN loss: 0.045\n",
      "[Iteration 5400/15000] TRAIN loss: 0.065\n",
      "[Iteration 5500/15000] TRAIN loss: 0.073\n",
      "[Iteration 5600/15000] TRAIN loss: 0.058\n",
      "[Iteration 5700/15000] TRAIN loss: 0.080\n",
      "[Iteration 5800/15000] TRAIN loss: 0.054\n",
      "[Iteration 5900/15000] TRAIN loss: 0.065\n",
      "[Iteration 6000/15000] TRAIN loss: 0.068\n",
      "[Epoch 4/10] TRAIN acc/loss: 0.938/0.068\n",
      "[Epoch 4/10] VAL   acc/loss: 0.983/0.061\n",
      "[Iteration 6100/15000] TRAIN loss: 0.047\n",
      "[Iteration 6200/15000] TRAIN loss: 0.052\n",
      "[Iteration 6300/15000] TRAIN loss: 0.047\n",
      "[Iteration 6400/15000] TRAIN loss: 0.045\n",
      "[Iteration 6500/15000] TRAIN loss: 0.050\n",
      "[Iteration 6600/15000] TRAIN loss: 0.050\n",
      "[Iteration 6700/15000] TRAIN loss: 0.052\n",
      "[Iteration 6800/15000] TRAIN loss: 0.043\n",
      "[Iteration 6900/15000] TRAIN loss: 0.048\n",
      "[Iteration 7000/15000] TRAIN loss: 0.055\n",
      "[Iteration 7100/15000] TRAIN loss: 0.039\n",
      "[Iteration 7200/15000] TRAIN loss: 0.046\n",
      "[Iteration 7300/15000] TRAIN loss: 0.056\n",
      "[Iteration 7400/15000] TRAIN loss: 0.042\n",
      "[Iteration 7500/15000] TRAIN loss: 0.047\n",
      "[Epoch 5/10] TRAIN acc/loss: 0.969/0.047\n",
      "[Epoch 5/10] VAL   acc/loss: 0.979/0.065\n",
      "[Iteration 7600/15000] TRAIN loss: 0.044\n",
      "[Iteration 7700/15000] TRAIN loss: 0.041\n",
      "[Iteration 7800/15000] TRAIN loss: 0.043\n",
      "[Iteration 7900/15000] TRAIN loss: 0.028\n",
      "[Iteration 8000/15000] TRAIN loss: 0.038\n",
      "[Iteration 8100/15000] TRAIN loss: 0.028\n",
      "[Iteration 8200/15000] TRAIN loss: 0.049\n",
      "[Iteration 8300/15000] TRAIN loss: 0.041\n",
      "[Iteration 8400/15000] TRAIN loss: 0.036\n",
      "[Iteration 8500/15000] TRAIN loss: 0.040\n",
      "[Iteration 8600/15000] TRAIN loss: 0.047\n",
      "[Iteration 8700/15000] TRAIN loss: 0.053\n",
      "[Iteration 8800/15000] TRAIN loss: 0.052\n",
      "[Iteration 8900/15000] TRAIN loss: 0.050\n",
      "[Iteration 9000/15000] TRAIN loss: 0.039\n",
      "[Epoch 6/10] TRAIN acc/loss: 1.000/0.039\n",
      "[Epoch 6/10] VAL   acc/loss: 0.983/0.056\n",
      "[Iteration 9100/15000] TRAIN loss: 0.030\n",
      "[Iteration 9200/15000] TRAIN loss: 0.027\n",
      "[Iteration 9300/15000] TRAIN loss: 0.031\n",
      "[Iteration 9400/15000] TRAIN loss: 0.040\n",
      "[Iteration 9500/15000] TRAIN loss: 0.026\n",
      "[Iteration 9600/15000] TRAIN loss: 0.038\n",
      "[Iteration 9700/15000] TRAIN loss: 0.036\n",
      "[Iteration 9800/15000] TRAIN loss: 0.040\n",
      "[Iteration 9900/15000] TRAIN loss: 0.057\n",
      "[Iteration 10000/15000] TRAIN loss: 0.027\n",
      "[Iteration 10100/15000] TRAIN loss: 0.032\n",
      "[Iteration 10200/15000] TRAIN loss: 0.036\n",
      "[Iteration 10300/15000] TRAIN loss: 0.043\n",
      "[Iteration 10400/15000] TRAIN loss: 0.039\n",
      "[Iteration 10500/15000] TRAIN loss: 0.035\n",
      "[Epoch 7/10] TRAIN acc/loss: 0.938/0.035\n",
      "[Epoch 7/10] VAL   acc/loss: 0.982/0.060\n",
      "[Iteration 10600/15000] TRAIN loss: 0.022\n",
      "[Iteration 10700/15000] TRAIN loss: 0.031\n",
      "[Iteration 10800/15000] TRAIN loss: 0.033\n",
      "[Iteration 10900/15000] TRAIN loss: 0.028\n",
      "[Iteration 11000/15000] TRAIN loss: 0.026\n",
      "[Iteration 11100/15000] TRAIN loss: 0.033\n",
      "[Iteration 11200/15000] TRAIN loss: 0.025\n",
      "[Iteration 11300/15000] TRAIN loss: 0.024\n",
      "[Iteration 11400/15000] TRAIN loss: 0.042\n",
      "[Iteration 11500/15000] TRAIN loss: 0.029\n",
      "[Iteration 11600/15000] TRAIN loss: 0.035\n",
      "[Iteration 11700/15000] TRAIN loss: 0.027\n",
      "[Iteration 11800/15000] TRAIN loss: 0.036\n",
      "[Iteration 11900/15000] TRAIN loss: 0.032\n",
      "[Iteration 12000/15000] TRAIN loss: 0.029\n",
      "[Epoch 8/10] TRAIN acc/loss: 1.000/0.029\n",
      "[Epoch 8/10] VAL   acc/loss: 0.987/0.046\n",
      "[Iteration 12100/15000] TRAIN loss: 0.023\n",
      "[Iteration 12200/15000] TRAIN loss: 0.027\n",
      "[Iteration 12300/15000] TRAIN loss: 0.033\n",
      "[Iteration 12400/15000] TRAIN loss: 0.027\n",
      "[Iteration 12500/15000] TRAIN loss: 0.020\n",
      "[Iteration 12600/15000] TRAIN loss: 0.028\n",
      "[Iteration 12700/15000] TRAIN loss: 0.036\n",
      "[Iteration 12800/15000] TRAIN loss: 0.021\n",
      "[Iteration 12900/15000] TRAIN loss: 0.028\n",
      "[Iteration 13000/15000] TRAIN loss: 0.038\n",
      "[Iteration 13100/15000] TRAIN loss: 0.036\n",
      "[Iteration 13200/15000] TRAIN loss: 0.027\n",
      "[Iteration 13300/15000] TRAIN loss: 0.034\n",
      "[Iteration 13400/15000] TRAIN loss: 0.029\n",
      "[Iteration 13500/15000] TRAIN loss: 0.033\n",
      "[Epoch 9/10] TRAIN acc/loss: 1.000/0.033\n",
      "[Epoch 9/10] VAL   acc/loss: 0.986/0.049\n",
      "[Iteration 13600/15000] TRAIN loss: 0.014\n",
      "[Iteration 13700/15000] TRAIN loss: 0.019\n",
      "[Iteration 13800/15000] TRAIN loss: 0.035\n",
      "[Iteration 13900/15000] TRAIN loss: 0.019\n",
      "[Iteration 14000/15000] TRAIN loss: 0.026\n",
      "[Iteration 14100/15000] TRAIN loss: 0.022\n",
      "[Iteration 14200/15000] TRAIN loss: 0.026\n",
      "[Iteration 14300/15000] TRAIN loss: 0.025\n",
      "[Iteration 14400/15000] TRAIN loss: 0.023\n",
      "[Iteration 14500/15000] TRAIN loss: 0.023\n",
      "[Iteration 14600/15000] TRAIN loss: 0.032\n",
      "[Iteration 14700/15000] TRAIN loss: 0.037\n",
      "[Iteration 14800/15000] TRAIN loss: 0.032\n",
      "[Iteration 14900/15000] TRAIN loss: 0.036\n",
      "[Iteration 15000/15000] TRAIN loss: 0.021\n",
      "[Epoch 10/10] TRAIN acc/loss: 1.000/0.021\n",
      "[Epoch 10/10] VAL   acc/loss: 0.986/0.053\n",
      "FINISH.\n"
     ]
    },
    {
     "name": "stderr",
     "output_type": "stream",
     "text": [
      "/home/tudor/Programs/anaconda3/envs/ML/lib/python3.7/site-packages/ipykernel_launcher.py:14: DeprecationWarning: Both axis > a.ndim and axis < -a.ndim - 1 are deprecated and will raise an AxisError in the future.\n",
      "  \n"
     ]
    }
   ],
   "source": [
    "from exercise_code.rnn.rnn_nn import LSTM_Classifier\n",
    "model= LSTM_Classifier()\n",
    "\n",
    "batch_size = 32\n",
    "train_loader = torch.utils.data.DataLoader(\n",
    "                 dataset=train_dset,\n",
    "                 batch_size=batch_size,\n",
    "                 shuffle=True)\n",
    "val_loader = torch.utils.data.DataLoader(\n",
    "                dataset=val_dset,\n",
    "                batch_size=batch_size,\n",
    "                shuffle=False)\n",
    "\n",
    "custom_adam_options = {\n",
    "    \"lr\": 1e-2\n",
    "}\n",
    "solver = Solver(optim_args={\"lr\": 1e-3})\n",
    "\n",
    "# train rnn model\n",
    "solver.train(model, train_loader, val_loader, log_nth=100, num_epochs=10)"
   ]
  },
  {
   "cell_type": "code",
   "execution_count": null,
   "metadata": {
    "pycharm": {
     "is_executing": false
    }
   },
   "outputs": [],
   "source": []
  },
  {
   "cell_type": "code",
   "execution_count": 17,
   "metadata": {
    "pycharm": {
     "is_executing": false
    }
   },
   "outputs": [],
   "source": []
  }
 ],
 "metadata": {
  "kernelspec": {
   "display_name": "Python 3",
   "language": "python",
   "name": "python3"
  },
  "language_info": {
   "codemirror_mode": {
    "name": "ipython",
    "version": 3
   },
   "file_extension": ".py",
   "mimetype": "text/x-python",
   "name": "python",
   "nbconvert_exporter": "python",
   "pygments_lexer": "ipython3",
   "version": "3.7.3"
  },
  "pycharm": {
   "stem_cell": {
    "cell_type": "raw",
    "metadata": {
     "collapsed": false
    },
    "source": []
   }
  }
 },
 "nbformat": 4,
 "nbformat_minor": 2
}
